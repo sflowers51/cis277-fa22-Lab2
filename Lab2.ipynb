{
  "cells": [
    {
      "cell_type": "markdown",
      "metadata": {},
      "source": [
        "# Lab 2 - Exploratory Data Analysis"
      ]
    },
    {
      "cell_type": "code",
      "execution_count": 21,
      "metadata": {
        "id": "gIWe8vk2fPX7"
      },
      "outputs": [],
      "source": [
        "import pandas as pd"
      ]
    },
    {
      "cell_type": "markdown",
      "metadata": {
        "id": "4N0ty0ecrWcn"
      },
      "source": [
        "## 1. Import Data"
      ]
    },
    {
      "cell_type": "code",
      "execution_count": 22,
      "metadata": {
        "id": "qY7nb0rAgWrr"
      },
      "outputs": [],
      "source": [
        "df = pd.read_csv('imdb-videogames.csv')\n"
      ]
    },
    {
      "cell_type": "markdown",
      "metadata": {
        "id": "4titwvhQri0o"
      },
      "source": [
        "## 2. Inspect a Portion of the Dataset"
      ]
    },
    {
      "cell_type": "code",
      "execution_count": 23,
      "metadata": {
        "colab": {
          "base_uri": "https://localhost:8080/",
          "height": 359
        },
        "id": "eIkZ2SBehFrY",
        "outputId": "8952e428-b938-4933-b581-9be7ddf2cdea"
      },
      "outputs": [
        {
          "data": {
            "text/html": [
              "<div>\n",
              "<style scoped>\n",
              "    .dataframe tbody tr th:only-of-type {\n",
              "        vertical-align: middle;\n",
              "    }\n",
              "\n",
              "    .dataframe tbody tr th {\n",
              "        vertical-align: top;\n",
              "    }\n",
              "\n",
              "    .dataframe thead th {\n",
              "        text-align: right;\n",
              "    }\n",
              "</style>\n",
              "<table border=\"1\" class=\"dataframe\">\n",
              "  <thead>\n",
              "    <tr style=\"text-align: right;\">\n",
              "      <th></th>\n",
              "      <th>Unnamed: 0</th>\n",
              "      <th>name</th>\n",
              "      <th>url</th>\n",
              "      <th>year</th>\n",
              "      <th>certificate</th>\n",
              "      <th>rating</th>\n",
              "      <th>votes</th>\n",
              "      <th>plot summary</th>\n",
              "      <th>Action</th>\n",
              "      <th>Adventure</th>\n",
              "      <th>Comedy</th>\n",
              "      <th>Crime</th>\n",
              "      <th>Family</th>\n",
              "      <th>Fantasy</th>\n",
              "      <th>Mystery</th>\n",
              "      <th>Sci-Fi</th>\n",
              "      <th>Thriller</th>\n",
              "    </tr>\n",
              "  </thead>\n",
              "  <tbody>\n",
              "    <tr>\n",
              "      <th>0</th>\n",
              "      <td>0</td>\n",
              "      <td>Spider-Man</td>\n",
              "      <td>https://www.imdb.com/title/tt5807780/?ref_=adv...</td>\n",
              "      <td>2018.0</td>\n",
              "      <td>T</td>\n",
              "      <td>9.2</td>\n",
              "      <td>20,759</td>\n",
              "      <td>When a new villain threatens New York City, Pe...</td>\n",
              "      <td>True</td>\n",
              "      <td>True</td>\n",
              "      <td>False</td>\n",
              "      <td>False</td>\n",
              "      <td>False</td>\n",
              "      <td>True</td>\n",
              "      <td>False</td>\n",
              "      <td>False</td>\n",
              "      <td>False</td>\n",
              "    </tr>\n",
              "    <tr>\n",
              "      <th>1</th>\n",
              "      <td>1</td>\n",
              "      <td>Red Dead Redemption II</td>\n",
              "      <td>https://www.imdb.com/title/tt6161168/?ref_=adv...</td>\n",
              "      <td>2018.0</td>\n",
              "      <td>M</td>\n",
              "      <td>9.7</td>\n",
              "      <td>35,703</td>\n",
              "      <td>Amidst the decline of the Wild West at the tur...</td>\n",
              "      <td>True</td>\n",
              "      <td>True</td>\n",
              "      <td>False</td>\n",
              "      <td>True</td>\n",
              "      <td>False</td>\n",
              "      <td>False</td>\n",
              "      <td>False</td>\n",
              "      <td>False</td>\n",
              "      <td>False</td>\n",
              "    </tr>\n",
              "  </tbody>\n",
              "</table>\n",
              "</div>"
            ],
            "text/plain": [
              "   Unnamed: 0                    name  \\\n",
              "0           0              Spider-Man   \n",
              "1           1  Red Dead Redemption II   \n",
              "\n",
              "                                                 url    year certificate  \\\n",
              "0  https://www.imdb.com/title/tt5807780/?ref_=adv...  2018.0           T   \n",
              "1  https://www.imdb.com/title/tt6161168/?ref_=adv...  2018.0           M   \n",
              "\n",
              "  rating   votes                                       plot summary  Action  \\\n",
              "0    9.2  20,759  When a new villain threatens New York City, Pe...    True   \n",
              "1    9.7  35,703  Amidst the decline of the Wild West at the tur...    True   \n",
              "\n",
              "   Adventure  Comedy  Crime  Family  Fantasy  Mystery  Sci-Fi  Thriller  \n",
              "0       True   False  False   False     True    False   False     False  \n",
              "1       True   False   True   False    False    False   False     False  "
            ]
          },
          "execution_count": 23,
          "metadata": {},
          "output_type": "execute_result"
        }
      ],
      "source": [
        "df.head(2)"
      ]
    },
    {
      "cell_type": "code",
      "execution_count": 24,
      "metadata": {
        "colab": {
          "base_uri": "https://localhost:8080/",
          "height": 359
        },
        "id": "_GK64h3eydeJ",
        "outputId": "799d5467-32e7-4dcb-b502-1db9f018cfd0"
      },
      "outputs": [
        {
          "data": {
            "text/html": [
              "<div>\n",
              "<style scoped>\n",
              "    .dataframe tbody tr th:only-of-type {\n",
              "        vertical-align: middle;\n",
              "    }\n",
              "\n",
              "    .dataframe tbody tr th {\n",
              "        vertical-align: top;\n",
              "    }\n",
              "\n",
              "    .dataframe thead th {\n",
              "        text-align: right;\n",
              "    }\n",
              "</style>\n",
              "<table border=\"1\" class=\"dataframe\">\n",
              "  <thead>\n",
              "    <tr style=\"text-align: right;\">\n",
              "      <th></th>\n",
              "      <th>Unnamed: 0</th>\n",
              "      <th>name</th>\n",
              "      <th>url</th>\n",
              "      <th>year</th>\n",
              "      <th>certificate</th>\n",
              "      <th>rating</th>\n",
              "      <th>votes</th>\n",
              "      <th>plot summary</th>\n",
              "      <th>Action</th>\n",
              "      <th>Adventure</th>\n",
              "      <th>Comedy</th>\n",
              "      <th>Crime</th>\n",
              "      <th>Family</th>\n",
              "      <th>Fantasy</th>\n",
              "      <th>Mystery</th>\n",
              "      <th>Sci-Fi</th>\n",
              "      <th>Thriller</th>\n",
              "    </tr>\n",
              "  </thead>\n",
              "  <tbody>\n",
              "    <tr>\n",
              "      <th>20795</th>\n",
              "      <td>20793</td>\n",
              "      <td>Boku wa kyoumo kimi o korosu</td>\n",
              "      <td>https://www.imdb.com/title/tt6010652/?ref_=adv...</td>\n",
              "      <td>2016.0</td>\n",
              "      <td>NaN</td>\n",
              "      <td>NaN</td>\n",
              "      <td>NaN</td>\n",
              "      <td>Add a Plot</td>\n",
              "      <td>False</td>\n",
              "      <td>False</td>\n",
              "      <td>False</td>\n",
              "      <td>False</td>\n",
              "      <td>False</td>\n",
              "      <td>False</td>\n",
              "      <td>False</td>\n",
              "      <td>False</td>\n",
              "      <td>True</td>\n",
              "    </tr>\n",
              "    <tr>\n",
              "      <th>20796</th>\n",
              "      <td>20794</td>\n",
              "      <td>Find Me Event</td>\n",
              "      <td>https://www.imdb.com/title/tt2619050/?ref_=adv...</td>\n",
              "      <td>2011.0</td>\n",
              "      <td>NaN</td>\n",
              "      <td>NaN</td>\n",
              "      <td>NaN</td>\n",
              "      <td>Days after being kidnapped and tortured, Denni...</td>\n",
              "      <td>False</td>\n",
              "      <td>False</td>\n",
              "      <td>False</td>\n",
              "      <td>False</td>\n",
              "      <td>False</td>\n",
              "      <td>False</td>\n",
              "      <td>False</td>\n",
              "      <td>False</td>\n",
              "      <td>True</td>\n",
              "    </tr>\n",
              "    <tr>\n",
              "      <th>20797</th>\n",
              "      <td>20795</td>\n",
              "      <td>Spooks</td>\n",
              "      <td>https://www.imdb.com/title/tt4965776/?ref_=adv...</td>\n",
              "      <td>2017.0</td>\n",
              "      <td>NaN</td>\n",
              "      <td>NaN</td>\n",
              "      <td>NaN</td>\n",
              "      <td>Add a Plot</td>\n",
              "      <td>False</td>\n",
              "      <td>False</td>\n",
              "      <td>False</td>\n",
              "      <td>False</td>\n",
              "      <td>False</td>\n",
              "      <td>False</td>\n",
              "      <td>False</td>\n",
              "      <td>False</td>\n",
              "      <td>True</td>\n",
              "    </tr>\n",
              "    <tr>\n",
              "      <th>20798</th>\n",
              "      <td>20796</td>\n",
              "      <td>Bite Marks</td>\n",
              "      <td>https://www.imdb.com/title/tt2797224/?ref_=adv...</td>\n",
              "      <td>2012.0</td>\n",
              "      <td>NaN</td>\n",
              "      <td>NaN</td>\n",
              "      <td>NaN</td>\n",
              "      <td>A demonologist gets in over his head while mak...</td>\n",
              "      <td>False</td>\n",
              "      <td>False</td>\n",
              "      <td>False</td>\n",
              "      <td>False</td>\n",
              "      <td>False</td>\n",
              "      <td>False</td>\n",
              "      <td>False</td>\n",
              "      <td>False</td>\n",
              "      <td>False</td>\n",
              "    </tr>\n",
              "    <tr>\n",
              "      <th>20799</th>\n",
              "      <td>20797</td>\n",
              "      <td>Requiem</td>\n",
              "      <td>https://www.imdb.com/title/tt4396968/?ref_=adv...</td>\n",
              "      <td>2016.0</td>\n",
              "      <td>NaN</td>\n",
              "      <td>NaN</td>\n",
              "      <td>NaN</td>\n",
              "      <td>Add a Plot</td>\n",
              "      <td>False</td>\n",
              "      <td>False</td>\n",
              "      <td>False</td>\n",
              "      <td>False</td>\n",
              "      <td>False</td>\n",
              "      <td>False</td>\n",
              "      <td>False</td>\n",
              "      <td>False</td>\n",
              "      <td>True</td>\n",
              "    </tr>\n",
              "    <tr>\n",
              "      <th>20800</th>\n",
              "      <td>20798</td>\n",
              "      <td>Enjoy Your Power, Enjoy Your Choice</td>\n",
              "      <td>https://www.imdb.com/title/tt3845606/?ref_=adv...</td>\n",
              "      <td>2014.0</td>\n",
              "      <td>NaN</td>\n",
              "      <td>NaN</td>\n",
              "      <td>NaN</td>\n",
              "      <td>Add a Plot</td>\n",
              "      <td>False</td>\n",
              "      <td>False</td>\n",
              "      <td>False</td>\n",
              "      <td>False</td>\n",
              "      <td>False</td>\n",
              "      <td>False</td>\n",
              "      <td>False</td>\n",
              "      <td>False</td>\n",
              "      <td>True</td>\n",
              "    </tr>\n",
              "    <tr>\n",
              "      <th>20801</th>\n",
              "      <td>20799</td>\n",
              "      <td>RedSun2020</td>\n",
              "      <td>https://www.imdb.com/title/tt0790739/?ref_=adv...</td>\n",
              "      <td>2004.0</td>\n",
              "      <td>NaN</td>\n",
              "      <td>NaN</td>\n",
              "      <td>NaN</td>\n",
              "      <td>Joseph gets kidnapped and it's the player's jo...</td>\n",
              "      <td>False</td>\n",
              "      <td>False</td>\n",
              "      <td>False</td>\n",
              "      <td>False</td>\n",
              "      <td>False</td>\n",
              "      <td>False</td>\n",
              "      <td>False</td>\n",
              "      <td>False</td>\n",
              "      <td>True</td>\n",
              "    </tr>\n",
              "    <tr>\n",
              "      <th>20802</th>\n",
              "      <td>20800</td>\n",
              "      <td>Shutter</td>\n",
              "      <td>https://www.imdb.com/title/tt5119948/?ref_=adv...</td>\n",
              "      <td>2015.0</td>\n",
              "      <td>NaN</td>\n",
              "      <td>NaN</td>\n",
              "      <td>NaN</td>\n",
              "      <td>A tech support man who uses a drone to investi...</td>\n",
              "      <td>False</td>\n",
              "      <td>False</td>\n",
              "      <td>False</td>\n",
              "      <td>False</td>\n",
              "      <td>False</td>\n",
              "      <td>False</td>\n",
              "      <td>False</td>\n",
              "      <td>False</td>\n",
              "      <td>True</td>\n",
              "    </tr>\n",
              "    <tr>\n",
              "      <th>20803</th>\n",
              "      <td>20801</td>\n",
              "      <td>The Music Machine</td>\n",
              "      <td>https://www.imdb.com/title/tt5142082/?ref_=adv...</td>\n",
              "      <td>2015.0</td>\n",
              "      <td>NaN</td>\n",
              "      <td>NaN</td>\n",
              "      <td>NaN</td>\n",
              "      <td>A young teenage girl and the ghost of a dead m...</td>\n",
              "      <td>False</td>\n",
              "      <td>False</td>\n",
              "      <td>False</td>\n",
              "      <td>False</td>\n",
              "      <td>False</td>\n",
              "      <td>False</td>\n",
              "      <td>False</td>\n",
              "      <td>False</td>\n",
              "      <td>True</td>\n",
              "    </tr>\n",
              "    <tr>\n",
              "      <th>20804</th>\n",
              "      <td>20802</td>\n",
              "      <td>Cryptic</td>\n",
              "      <td>https://www.imdb.com/title/tt10964974/?ref_=ad...</td>\n",
              "      <td>2020.0</td>\n",
              "      <td>NaN</td>\n",
              "      <td>NaN</td>\n",
              "      <td>NaN</td>\n",
              "      <td>Kidnapped by an insane man and dragged into a ...</td>\n",
              "      <td>False</td>\n",
              "      <td>False</td>\n",
              "      <td>False</td>\n",
              "      <td>False</td>\n",
              "      <td>False</td>\n",
              "      <td>False</td>\n",
              "      <td>False</td>\n",
              "      <td>False</td>\n",
              "      <td>True</td>\n",
              "    </tr>\n",
              "  </tbody>\n",
              "</table>\n",
              "</div>"
            ],
            "text/plain": [
              "       Unnamed: 0                                 name  \\\n",
              "20795       20793         Boku wa kyoumo kimi o korosu   \n",
              "20796       20794                        Find Me Event   \n",
              "20797       20795                               Spooks   \n",
              "20798       20796                           Bite Marks   \n",
              "20799       20797                              Requiem   \n",
              "20800       20798  Enjoy Your Power, Enjoy Your Choice   \n",
              "20801       20799                           RedSun2020   \n",
              "20802       20800                              Shutter   \n",
              "20803       20801                    The Music Machine   \n",
              "20804       20802                              Cryptic   \n",
              "\n",
              "                                                     url    year certificate  \\\n",
              "20795  https://www.imdb.com/title/tt6010652/?ref_=adv...  2016.0         NaN   \n",
              "20796  https://www.imdb.com/title/tt2619050/?ref_=adv...  2011.0         NaN   \n",
              "20797  https://www.imdb.com/title/tt4965776/?ref_=adv...  2017.0         NaN   \n",
              "20798  https://www.imdb.com/title/tt2797224/?ref_=adv...  2012.0         NaN   \n",
              "20799  https://www.imdb.com/title/tt4396968/?ref_=adv...  2016.0         NaN   \n",
              "20800  https://www.imdb.com/title/tt3845606/?ref_=adv...  2014.0         NaN   \n",
              "20801  https://www.imdb.com/title/tt0790739/?ref_=adv...  2004.0         NaN   \n",
              "20802  https://www.imdb.com/title/tt5119948/?ref_=adv...  2015.0         NaN   \n",
              "20803  https://www.imdb.com/title/tt5142082/?ref_=adv...  2015.0         NaN   \n",
              "20804  https://www.imdb.com/title/tt10964974/?ref_=ad...  2020.0         NaN   \n",
              "\n",
              "      rating votes                                       plot summary  Action  \\\n",
              "20795    NaN   NaN                                         Add a Plot   False   \n",
              "20796    NaN   NaN  Days after being kidnapped and tortured, Denni...   False   \n",
              "20797    NaN   NaN                                         Add a Plot   False   \n",
              "20798    NaN   NaN  A demonologist gets in over his head while mak...   False   \n",
              "20799    NaN   NaN                                         Add a Plot   False   \n",
              "20800    NaN   NaN                                         Add a Plot   False   \n",
              "20801    NaN   NaN  Joseph gets kidnapped and it's the player's jo...   False   \n",
              "20802    NaN   NaN  A tech support man who uses a drone to investi...   False   \n",
              "20803    NaN   NaN  A young teenage girl and the ghost of a dead m...   False   \n",
              "20804    NaN   NaN  Kidnapped by an insane man and dragged into a ...   False   \n",
              "\n",
              "       Adventure  Comedy  Crime  Family  Fantasy  Mystery  Sci-Fi  Thriller  \n",
              "20795      False   False  False   False    False    False   False      True  \n",
              "20796      False   False  False   False    False    False   False      True  \n",
              "20797      False   False  False   False    False    False   False      True  \n",
              "20798      False   False  False   False    False    False   False     False  \n",
              "20799      False   False  False   False    False    False   False      True  \n",
              "20800      False   False  False   False    False    False   False      True  \n",
              "20801      False   False  False   False    False    False   False      True  \n",
              "20802      False   False  False   False    False    False   False      True  \n",
              "20803      False   False  False   False    False    False   False      True  \n",
              "20804      False   False  False   False    False    False   False      True  "
            ]
          },
          "execution_count": 24,
          "metadata": {},
          "output_type": "execute_result"
        }
      ],
      "source": [
        "df.tail(10)"
      ]
    },
    {
      "cell_type": "markdown",
      "metadata": {
        "id": "AoN1t0yTr3vt"
      },
      "source": [
        "## 3. Shape and Basic Info about the Dataset"
      ]
    },
    {
      "cell_type": "code",
      "execution_count": 25,
      "metadata": {
        "colab": {
          "base_uri": "https://localhost:8080/"
        },
        "id": "eR6x6BUwhptZ",
        "outputId": "e2b94951-3d5d-47bf-e3e4-c5c571d2d879"
      },
      "outputs": [
        {
          "data": {
            "text/plain": [
              "(20805, 17)"
            ]
          },
          "execution_count": 25,
          "metadata": {},
          "output_type": "execute_result"
        }
      ],
      "source": [
        "df.shape"
      ]
    },
    {
      "cell_type": "code",
      "execution_count": 26,
      "metadata": {
        "colab": {
          "base_uri": "https://localhost:8080/"
        },
        "id": "kx4xO7-biEGK",
        "outputId": "a5d0a366-f1eb-46e6-a56b-59699a4d9fad"
      },
      "outputs": [
        {
          "name": "stdout",
          "output_type": "stream",
          "text": [
            "<class 'pandas.core.frame.DataFrame'>\n",
            "RangeIndex: 20805 entries, 0 to 20804\n",
            "Data columns (total 17 columns):\n",
            " #   Column        Non-Null Count  Dtype  \n",
            "---  ------        --------------  -----  \n",
            " 0   Unnamed: 0    20805 non-null  int64  \n",
            " 1   name          20805 non-null  object \n",
            " 2   url           20805 non-null  object \n",
            " 3   year          20538 non-null  float64\n",
            " 4   certificate   7905 non-null   object \n",
            " 5   rating        11602 non-null  object \n",
            " 6   votes         11602 non-null  object \n",
            " 7   plot summary  20805 non-null  object \n",
            " 8   Action        20805 non-null  bool   \n",
            " 9   Adventure     20805 non-null  bool   \n",
            " 10  Comedy        20805 non-null  bool   \n",
            " 11  Crime         20805 non-null  bool   \n",
            " 12  Family        20805 non-null  bool   \n",
            " 13  Fantasy       20805 non-null  bool   \n",
            " 14  Mystery       20805 non-null  bool   \n",
            " 15  Sci-Fi        20805 non-null  bool   \n",
            " 16  Thriller      20805 non-null  bool   \n",
            "dtypes: bool(9), float64(1), int64(1), object(6)\n",
            "memory usage: 1.4+ MB\n"
          ]
        }
      ],
      "source": [
        "df.info()"
      ]
    },
    {
      "cell_type": "code",
      "execution_count": 27,
      "metadata": {},
      "outputs": [
        {
          "data": {
            "text/html": [
              "<div>\n",
              "<style scoped>\n",
              "    .dataframe tbody tr th:only-of-type {\n",
              "        vertical-align: middle;\n",
              "    }\n",
              "\n",
              "    .dataframe tbody tr th {\n",
              "        vertical-align: top;\n",
              "    }\n",
              "\n",
              "    .dataframe thead th {\n",
              "        text-align: right;\n",
              "    }\n",
              "</style>\n",
              "<table border=\"1\" class=\"dataframe\">\n",
              "  <thead>\n",
              "    <tr style=\"text-align: right;\">\n",
              "      <th></th>\n",
              "      <th>Unnamed: 0</th>\n",
              "      <th>year</th>\n",
              "    </tr>\n",
              "  </thead>\n",
              "  <tbody>\n",
              "    <tr>\n",
              "      <th>count</th>\n",
              "      <td>20805.000000</td>\n",
              "      <td>20538.000000</td>\n",
              "    </tr>\n",
              "    <tr>\n",
              "      <th>mean</th>\n",
              "      <td>10400.066667</td>\n",
              "      <td>2005.567485</td>\n",
              "    </tr>\n",
              "    <tr>\n",
              "      <th>std</th>\n",
              "      <td>6005.918897</td>\n",
              "      <td>11.846001</td>\n",
              "    </tr>\n",
              "    <tr>\n",
              "      <th>min</th>\n",
              "      <td>0.000000</td>\n",
              "      <td>1952.000000</td>\n",
              "    </tr>\n",
              "    <tr>\n",
              "      <th>25%</th>\n",
              "      <td>5199.000000</td>\n",
              "      <td>1997.000000</td>\n",
              "    </tr>\n",
              "    <tr>\n",
              "      <th>50%</th>\n",
              "      <td>10400.000000</td>\n",
              "      <td>2008.000000</td>\n",
              "    </tr>\n",
              "    <tr>\n",
              "      <th>75%</th>\n",
              "      <td>15601.000000</td>\n",
              "      <td>2016.000000</td>\n",
              "    </tr>\n",
              "    <tr>\n",
              "      <th>max</th>\n",
              "      <td>20802.000000</td>\n",
              "      <td>2027.000000</td>\n",
              "    </tr>\n",
              "  </tbody>\n",
              "</table>\n",
              "</div>"
            ],
            "text/plain": [
              "         Unnamed: 0          year\n",
              "count  20805.000000  20538.000000\n",
              "mean   10400.066667   2005.567485\n",
              "std     6005.918897     11.846001\n",
              "min        0.000000   1952.000000\n",
              "25%     5199.000000   1997.000000\n",
              "50%    10400.000000   2008.000000\n",
              "75%    15601.000000   2016.000000\n",
              "max    20802.000000   2027.000000"
            ]
          },
          "execution_count": 27,
          "metadata": {},
          "output_type": "execute_result"
        }
      ],
      "source": [
        "df.describe()"
      ]
    },
    {
      "cell_type": "code",
      "execution_count": 28,
      "metadata": {},
      "outputs": [
        {
          "data": {
            "text/plain": [
              "array(['Spider-Man', 'Red Dead Redemption II', 'Grand Theft Auto V', ...,\n",
              "       'Shutter', 'The Music Machine', 'Cryptic'], dtype=object)"
            ]
          },
          "execution_count": 28,
          "metadata": {},
          "output_type": "execute_result"
        }
      ],
      "source": [
        "df.name.unique()"
      ]
    },
    {
      "cell_type": "markdown",
      "metadata": {
        "id": "8qYR0y0MsDz_"
      },
      "source": [
        "## 4. Look for Duplicates"
      ]
    },
    {
      "cell_type": "code",
      "execution_count": 29,
      "metadata": {},
      "outputs": [
        {
          "data": {
            "text/plain": [
              "2"
            ]
          },
          "execution_count": 29,
          "metadata": {},
          "output_type": "execute_result"
        }
      ],
      "source": [
        "df.duplicated().sum()"
      ]
    },
    {
      "cell_type": "markdown",
      "metadata": {},
      "source": [
        "following code drops all the duplicates because we do not want them messing the data."
      ]
    },
    {
      "cell_type": "code",
      "execution_count": 30,
      "metadata": {},
      "outputs": [
        {
          "data": {
            "text/html": [
              "<div>\n",
              "<style scoped>\n",
              "    .dataframe tbody tr th:only-of-type {\n",
              "        vertical-align: middle;\n",
              "    }\n",
              "\n",
              "    .dataframe tbody tr th {\n",
              "        vertical-align: top;\n",
              "    }\n",
              "\n",
              "    .dataframe thead th {\n",
              "        text-align: right;\n",
              "    }\n",
              "</style>\n",
              "<table border=\"1\" class=\"dataframe\">\n",
              "  <thead>\n",
              "    <tr style=\"text-align: right;\">\n",
              "      <th></th>\n",
              "      <th>Unnamed: 0</th>\n",
              "      <th>name</th>\n",
              "      <th>url</th>\n",
              "      <th>year</th>\n",
              "      <th>certificate</th>\n",
              "      <th>rating</th>\n",
              "      <th>votes</th>\n",
              "      <th>plot summary</th>\n",
              "      <th>Action</th>\n",
              "      <th>Adventure</th>\n",
              "      <th>Comedy</th>\n",
              "      <th>Crime</th>\n",
              "      <th>Family</th>\n",
              "      <th>Fantasy</th>\n",
              "      <th>Mystery</th>\n",
              "      <th>Sci-Fi</th>\n",
              "      <th>Thriller</th>\n",
              "    </tr>\n",
              "  </thead>\n",
              "  <tbody>\n",
              "    <tr>\n",
              "      <th>0</th>\n",
              "      <td>0</td>\n",
              "      <td>Spider-Man</td>\n",
              "      <td>https://www.imdb.com/title/tt5807780/?ref_=adv...</td>\n",
              "      <td>2018.0</td>\n",
              "      <td>T</td>\n",
              "      <td>9.2</td>\n",
              "      <td>20,759</td>\n",
              "      <td>When a new villain threatens New York City, Pe...</td>\n",
              "      <td>True</td>\n",
              "      <td>True</td>\n",
              "      <td>False</td>\n",
              "      <td>False</td>\n",
              "      <td>False</td>\n",
              "      <td>True</td>\n",
              "      <td>False</td>\n",
              "      <td>False</td>\n",
              "      <td>False</td>\n",
              "    </tr>\n",
              "    <tr>\n",
              "      <th>1</th>\n",
              "      <td>1</td>\n",
              "      <td>Red Dead Redemption II</td>\n",
              "      <td>https://www.imdb.com/title/tt6161168/?ref_=adv...</td>\n",
              "      <td>2018.0</td>\n",
              "      <td>M</td>\n",
              "      <td>9.7</td>\n",
              "      <td>35,703</td>\n",
              "      <td>Amidst the decline of the Wild West at the tur...</td>\n",
              "      <td>True</td>\n",
              "      <td>True</td>\n",
              "      <td>False</td>\n",
              "      <td>True</td>\n",
              "      <td>False</td>\n",
              "      <td>False</td>\n",
              "      <td>False</td>\n",
              "      <td>False</td>\n",
              "      <td>False</td>\n",
              "    </tr>\n",
              "    <tr>\n",
              "      <th>2</th>\n",
              "      <td>2</td>\n",
              "      <td>Grand Theft Auto V</td>\n",
              "      <td>https://www.imdb.com/title/tt2103188/?ref_=adv...</td>\n",
              "      <td>2013.0</td>\n",
              "      <td>M</td>\n",
              "      <td>9.5</td>\n",
              "      <td>59,986</td>\n",
              "      <td>Three very different criminals team up for a s...</td>\n",
              "      <td>True</td>\n",
              "      <td>False</td>\n",
              "      <td>False</td>\n",
              "      <td>True</td>\n",
              "      <td>False</td>\n",
              "      <td>False</td>\n",
              "      <td>False</td>\n",
              "      <td>False</td>\n",
              "      <td>False</td>\n",
              "    </tr>\n",
              "    <tr>\n",
              "      <th>3</th>\n",
              "      <td>3</td>\n",
              "      <td>God of War</td>\n",
              "      <td>https://www.imdb.com/title/tt5838588/?ref_=adv...</td>\n",
              "      <td>2018.0</td>\n",
              "      <td>M</td>\n",
              "      <td>9.6</td>\n",
              "      <td>26,118</td>\n",
              "      <td>After wiping out the gods of Mount Olympus, Kr...</td>\n",
              "      <td>True</td>\n",
              "      <td>True</td>\n",
              "      <td>False</td>\n",
              "      <td>False</td>\n",
              "      <td>False</td>\n",
              "      <td>False</td>\n",
              "      <td>False</td>\n",
              "      <td>False</td>\n",
              "      <td>False</td>\n",
              "    </tr>\n",
              "    <tr>\n",
              "      <th>4</th>\n",
              "      <td>4</td>\n",
              "      <td>Uncharted 4: A Thief's End</td>\n",
              "      <td>https://www.imdb.com/title/tt3334704/?ref_=adv...</td>\n",
              "      <td>2016.0</td>\n",
              "      <td>T</td>\n",
              "      <td>9.5</td>\n",
              "      <td>28,722</td>\n",
              "      <td>Thrown back into the dangerous underworld he'd...</td>\n",
              "      <td>True</td>\n",
              "      <td>True</td>\n",
              "      <td>False</td>\n",
              "      <td>False</td>\n",
              "      <td>False</td>\n",
              "      <td>False</td>\n",
              "      <td>False</td>\n",
              "      <td>False</td>\n",
              "      <td>False</td>\n",
              "    </tr>\n",
              "    <tr>\n",
              "      <th>...</th>\n",
              "      <td>...</td>\n",
              "      <td>...</td>\n",
              "      <td>...</td>\n",
              "      <td>...</td>\n",
              "      <td>...</td>\n",
              "      <td>...</td>\n",
              "      <td>...</td>\n",
              "      <td>...</td>\n",
              "      <td>...</td>\n",
              "      <td>...</td>\n",
              "      <td>...</td>\n",
              "      <td>...</td>\n",
              "      <td>...</td>\n",
              "      <td>...</td>\n",
              "      <td>...</td>\n",
              "      <td>...</td>\n",
              "      <td>...</td>\n",
              "    </tr>\n",
              "    <tr>\n",
              "      <th>20800</th>\n",
              "      <td>20798</td>\n",
              "      <td>Enjoy Your Power, Enjoy Your Choice</td>\n",
              "      <td>https://www.imdb.com/title/tt3845606/?ref_=adv...</td>\n",
              "      <td>2014.0</td>\n",
              "      <td>NaN</td>\n",
              "      <td>NaN</td>\n",
              "      <td>NaN</td>\n",
              "      <td>Add a Plot</td>\n",
              "      <td>False</td>\n",
              "      <td>False</td>\n",
              "      <td>False</td>\n",
              "      <td>False</td>\n",
              "      <td>False</td>\n",
              "      <td>False</td>\n",
              "      <td>False</td>\n",
              "      <td>False</td>\n",
              "      <td>True</td>\n",
              "    </tr>\n",
              "    <tr>\n",
              "      <th>20801</th>\n",
              "      <td>20799</td>\n",
              "      <td>RedSun2020</td>\n",
              "      <td>https://www.imdb.com/title/tt0790739/?ref_=adv...</td>\n",
              "      <td>2004.0</td>\n",
              "      <td>NaN</td>\n",
              "      <td>NaN</td>\n",
              "      <td>NaN</td>\n",
              "      <td>Joseph gets kidnapped and it's the player's jo...</td>\n",
              "      <td>False</td>\n",
              "      <td>False</td>\n",
              "      <td>False</td>\n",
              "      <td>False</td>\n",
              "      <td>False</td>\n",
              "      <td>False</td>\n",
              "      <td>False</td>\n",
              "      <td>False</td>\n",
              "      <td>True</td>\n",
              "    </tr>\n",
              "    <tr>\n",
              "      <th>20802</th>\n",
              "      <td>20800</td>\n",
              "      <td>Shutter</td>\n",
              "      <td>https://www.imdb.com/title/tt5119948/?ref_=adv...</td>\n",
              "      <td>2015.0</td>\n",
              "      <td>NaN</td>\n",
              "      <td>NaN</td>\n",
              "      <td>NaN</td>\n",
              "      <td>A tech support man who uses a drone to investi...</td>\n",
              "      <td>False</td>\n",
              "      <td>False</td>\n",
              "      <td>False</td>\n",
              "      <td>False</td>\n",
              "      <td>False</td>\n",
              "      <td>False</td>\n",
              "      <td>False</td>\n",
              "      <td>False</td>\n",
              "      <td>True</td>\n",
              "    </tr>\n",
              "    <tr>\n",
              "      <th>20803</th>\n",
              "      <td>20801</td>\n",
              "      <td>The Music Machine</td>\n",
              "      <td>https://www.imdb.com/title/tt5142082/?ref_=adv...</td>\n",
              "      <td>2015.0</td>\n",
              "      <td>NaN</td>\n",
              "      <td>NaN</td>\n",
              "      <td>NaN</td>\n",
              "      <td>A young teenage girl and the ghost of a dead m...</td>\n",
              "      <td>False</td>\n",
              "      <td>False</td>\n",
              "      <td>False</td>\n",
              "      <td>False</td>\n",
              "      <td>False</td>\n",
              "      <td>False</td>\n",
              "      <td>False</td>\n",
              "      <td>False</td>\n",
              "      <td>True</td>\n",
              "    </tr>\n",
              "    <tr>\n",
              "      <th>20804</th>\n",
              "      <td>20802</td>\n",
              "      <td>Cryptic</td>\n",
              "      <td>https://www.imdb.com/title/tt10964974/?ref_=ad...</td>\n",
              "      <td>2020.0</td>\n",
              "      <td>NaN</td>\n",
              "      <td>NaN</td>\n",
              "      <td>NaN</td>\n",
              "      <td>Kidnapped by an insane man and dragged into a ...</td>\n",
              "      <td>False</td>\n",
              "      <td>False</td>\n",
              "      <td>False</td>\n",
              "      <td>False</td>\n",
              "      <td>False</td>\n",
              "      <td>False</td>\n",
              "      <td>False</td>\n",
              "      <td>False</td>\n",
              "      <td>True</td>\n",
              "    </tr>\n",
              "  </tbody>\n",
              "</table>\n",
              "<p>20803 rows × 17 columns</p>\n",
              "</div>"
            ],
            "text/plain": [
              "       Unnamed: 0                                 name  \\\n",
              "0               0                           Spider-Man   \n",
              "1               1               Red Dead Redemption II   \n",
              "2               2                   Grand Theft Auto V   \n",
              "3               3                           God of War   \n",
              "4               4           Uncharted 4: A Thief's End   \n",
              "...           ...                                  ...   \n",
              "20800       20798  Enjoy Your Power, Enjoy Your Choice   \n",
              "20801       20799                           RedSun2020   \n",
              "20802       20800                              Shutter   \n",
              "20803       20801                    The Music Machine   \n",
              "20804       20802                              Cryptic   \n",
              "\n",
              "                                                     url    year certificate  \\\n",
              "0      https://www.imdb.com/title/tt5807780/?ref_=adv...  2018.0           T   \n",
              "1      https://www.imdb.com/title/tt6161168/?ref_=adv...  2018.0           M   \n",
              "2      https://www.imdb.com/title/tt2103188/?ref_=adv...  2013.0           M   \n",
              "3      https://www.imdb.com/title/tt5838588/?ref_=adv...  2018.0           M   \n",
              "4      https://www.imdb.com/title/tt3334704/?ref_=adv...  2016.0           T   \n",
              "...                                                  ...     ...         ...   \n",
              "20800  https://www.imdb.com/title/tt3845606/?ref_=adv...  2014.0         NaN   \n",
              "20801  https://www.imdb.com/title/tt0790739/?ref_=adv...  2004.0         NaN   \n",
              "20802  https://www.imdb.com/title/tt5119948/?ref_=adv...  2015.0         NaN   \n",
              "20803  https://www.imdb.com/title/tt5142082/?ref_=adv...  2015.0         NaN   \n",
              "20804  https://www.imdb.com/title/tt10964974/?ref_=ad...  2020.0         NaN   \n",
              "\n",
              "      rating   votes                                       plot summary  \\\n",
              "0        9.2  20,759  When a new villain threatens New York City, Pe...   \n",
              "1        9.7  35,703  Amidst the decline of the Wild West at the tur...   \n",
              "2        9.5  59,986  Three very different criminals team up for a s...   \n",
              "3        9.6  26,118  After wiping out the gods of Mount Olympus, Kr...   \n",
              "4        9.5  28,722  Thrown back into the dangerous underworld he'd...   \n",
              "...      ...     ...                                                ...   \n",
              "20800    NaN     NaN                                         Add a Plot   \n",
              "20801    NaN     NaN  Joseph gets kidnapped and it's the player's jo...   \n",
              "20802    NaN     NaN  A tech support man who uses a drone to investi...   \n",
              "20803    NaN     NaN  A young teenage girl and the ghost of a dead m...   \n",
              "20804    NaN     NaN  Kidnapped by an insane man and dragged into a ...   \n",
              "\n",
              "       Action  Adventure  Comedy  Crime  Family  Fantasy  Mystery  Sci-Fi  \\\n",
              "0        True       True   False  False   False     True    False   False   \n",
              "1        True       True   False   True   False    False    False   False   \n",
              "2        True      False   False   True   False    False    False   False   \n",
              "3        True       True   False  False   False    False    False   False   \n",
              "4        True       True   False  False   False    False    False   False   \n",
              "...       ...        ...     ...    ...     ...      ...      ...     ...   \n",
              "20800   False      False   False  False   False    False    False   False   \n",
              "20801   False      False   False  False   False    False    False   False   \n",
              "20802   False      False   False  False   False    False    False   False   \n",
              "20803   False      False   False  False   False    False    False   False   \n",
              "20804   False      False   False  False   False    False    False   False   \n",
              "\n",
              "       Thriller  \n",
              "0         False  \n",
              "1         False  \n",
              "2         False  \n",
              "3         False  \n",
              "4         False  \n",
              "...         ...  \n",
              "20800      True  \n",
              "20801      True  \n",
              "20802      True  \n",
              "20803      True  \n",
              "20804      True  \n",
              "\n",
              "[20803 rows x 17 columns]"
            ]
          },
          "execution_count": 30,
          "metadata": {},
          "output_type": "execute_result"
        }
      ],
      "source": [
        "df.drop_duplicates(inplace=True)\n",
        "df"
      ]
    },
    {
      "cell_type": "markdown",
      "metadata": {
        "id": "v49n0pjypU0H"
      },
      "source": [
        "## 5. Fix Types"
      ]
    },
    {
      "cell_type": "code",
      "execution_count": 31,
      "metadata": {
        "colab": {
          "base_uri": "https://localhost:8080/",
          "height": 297
        },
        "id": "XOHIrWXVvjU0",
        "outputId": "fee97ec9-8fae-4b4c-b502-0dd91e3aeff5"
      },
      "outputs": [
        {
          "name": "stdout",
          "output_type": "stream",
          "text": [
            "<class 'pandas.core.frame.DataFrame'>\n",
            "Int64Index: 20803 entries, 0 to 20804\n",
            "Data columns (total 17 columns):\n",
            " #   Column        Non-Null Count  Dtype  \n",
            "---  ------        --------------  -----  \n",
            " 0   Unnamed: 0    20803 non-null  int64  \n",
            " 1   name          20803 non-null  object \n",
            " 2   url           20803 non-null  object \n",
            " 3   year          20536 non-null  float64\n",
            " 4   certificate   7903 non-null   object \n",
            " 5   rating        11600 non-null  object \n",
            " 6   votes         11600 non-null  object \n",
            " 7   plot summary  20803 non-null  object \n",
            " 8   Action        20803 non-null  bool   \n",
            " 9   Adventure     20803 non-null  bool   \n",
            " 10  Comedy        20803 non-null  bool   \n",
            " 11  Crime         20803 non-null  bool   \n",
            " 12  Family        20803 non-null  bool   \n",
            " 13  Fantasy       20803 non-null  bool   \n",
            " 14  Mystery       20803 non-null  bool   \n",
            " 15  Sci-Fi        20803 non-null  bool   \n",
            " 16  Thriller      20803 non-null  bool   \n",
            "dtypes: bool(9), float64(1), int64(1), object(6)\n",
            "memory usage: 1.6+ MB\n"
          ]
        }
      ],
      "source": [
        "df.info()"
      ]
    },
    {
      "cell_type": "markdown",
      "metadata": {},
      "source": [
        "following code replaces the *9.0 with a 9.0 as it was inserted to mess up the data, which we do not want"
      ]
    },
    {
      "cell_type": "code",
      "execution_count": 32,
      "metadata": {},
      "outputs": [
        {
          "data": {
            "text/html": [
              "<div>\n",
              "<style scoped>\n",
              "    .dataframe tbody tr th:only-of-type {\n",
              "        vertical-align: middle;\n",
              "    }\n",
              "\n",
              "    .dataframe tbody tr th {\n",
              "        vertical-align: top;\n",
              "    }\n",
              "\n",
              "    .dataframe thead th {\n",
              "        text-align: right;\n",
              "    }\n",
              "</style>\n",
              "<table border=\"1\" class=\"dataframe\">\n",
              "  <thead>\n",
              "    <tr style=\"text-align: right;\">\n",
              "      <th></th>\n",
              "      <th>Unnamed: 0</th>\n",
              "      <th>name</th>\n",
              "      <th>url</th>\n",
              "      <th>year</th>\n",
              "      <th>certificate</th>\n",
              "      <th>rating</th>\n",
              "      <th>votes</th>\n",
              "      <th>plot summary</th>\n",
              "      <th>Action</th>\n",
              "      <th>Adventure</th>\n",
              "      <th>Comedy</th>\n",
              "      <th>Crime</th>\n",
              "      <th>Family</th>\n",
              "      <th>Fantasy</th>\n",
              "      <th>Mystery</th>\n",
              "      <th>Sci-Fi</th>\n",
              "      <th>Thriller</th>\n",
              "    </tr>\n",
              "  </thead>\n",
              "  <tbody>\n",
              "  </tbody>\n",
              "</table>\n",
              "</div>"
            ],
            "text/plain": [
              "Empty DataFrame\n",
              "Columns: [Unnamed: 0, name, url, year, certificate, rating, votes, plot summary, Action, Adventure, Comedy, Crime, Family, Fantasy, Mystery, Sci-Fi, Thriller]\n",
              "Index: []"
            ]
          },
          "execution_count": 32,
          "metadata": {},
          "output_type": "execute_result"
        }
      ],
      "source": [
        "df.rating.unique()\n",
        "\n",
        "df.rating.replace(\"*9.0\", 9.0, inplace = True)\n",
        "\n",
        "df[df.rating==\"*9.0\"]\n"
      ]
    },
    {
      "cell_type": "code",
      "execution_count": 33,
      "metadata": {
        "colab": {
          "base_uri": "https://localhost:8080/",
          "height": 297
        },
        "id": "vP-BSVdGmFSq",
        "outputId": "a2f8316b-06bc-44ba-923f-ce2c26e511d9"
      },
      "outputs": [
        {
          "data": {
            "text/plain": [
              "Unnamed: 0        int64\n",
              "name             object\n",
              "url              object\n",
              "year            float64\n",
              "certificate      object\n",
              "rating           object\n",
              "votes            object\n",
              "plot summary     object\n",
              "Action             bool\n",
              "Adventure          bool\n",
              "Comedy             bool\n",
              "Crime              bool\n",
              "Family             bool\n",
              "Fantasy            bool\n",
              "Mystery            bool\n",
              "Sci-Fi             bool\n",
              "Thriller           bool\n",
              "dtype: object"
            ]
          },
          "execution_count": 33,
          "metadata": {},
          "output_type": "execute_result"
        }
      ],
      "source": [
        "df.dtypes"
      ]
    },
    {
      "cell_type": "markdown",
      "metadata": {},
      "source": [
        "following code switches data in the rating column to floating point numbers"
      ]
    },
    {
      "cell_type": "code",
      "execution_count": 34,
      "metadata": {},
      "outputs": [
        {
          "name": "stdout",
          "output_type": "stream",
          "text": [
            "<class 'pandas.core.frame.DataFrame'>\n",
            "Int64Index: 20803 entries, 0 to 20804\n",
            "Data columns (total 17 columns):\n",
            " #   Column        Non-Null Count  Dtype  \n",
            "---  ------        --------------  -----  \n",
            " 0   Unnamed: 0    20803 non-null  int64  \n",
            " 1   name          20803 non-null  object \n",
            " 2   url           20803 non-null  object \n",
            " 3   year          20536 non-null  float64\n",
            " 4   certificate   7903 non-null   object \n",
            " 5   rating        11600 non-null  float64\n",
            " 6   votes         11600 non-null  object \n",
            " 7   plot summary  20803 non-null  object \n",
            " 8   Action        20803 non-null  bool   \n",
            " 9   Adventure     20803 non-null  bool   \n",
            " 10  Comedy        20803 non-null  bool   \n",
            " 11  Crime         20803 non-null  bool   \n",
            " 12  Family        20803 non-null  bool   \n",
            " 13  Fantasy       20803 non-null  bool   \n",
            " 14  Mystery       20803 non-null  bool   \n",
            " 15  Sci-Fi        20803 non-null  bool   \n",
            " 16  Thriller      20803 non-null  bool   \n",
            "dtypes: bool(9), float64(2), int64(1), object(5)\n",
            "memory usage: 1.6+ MB\n"
          ]
        }
      ],
      "source": [
        "df.rating = pd.to_numeric(df.rating)\n",
        "\n",
        "df.info()"
      ]
    },
    {
      "cell_type": "code",
      "execution_count": 35,
      "metadata": {
        "colab": {
          "base_uri": "https://localhost:8080/"
        },
        "id": "uowkED0rm3gT",
        "outputId": "4f056f2d-af36-4006-98ed-29e4883189e3"
      },
      "outputs": [
        {
          "data": {
            "text/plain": [
              "Index(['Unnamed: 0', 'name', 'url', 'year', 'certificate', 'rating', 'votes',\n",
              "       'plot summary', 'Action', 'Adventure', 'Comedy', 'Crime', 'Family',\n",
              "       'Fantasy', 'Mystery', 'Sci-Fi', 'Thriller'],\n",
              "      dtype='object')"
            ]
          },
          "execution_count": 35,
          "metadata": {},
          "output_type": "execute_result"
        }
      ],
      "source": [
        "df.columns"
      ]
    },
    {
      "cell_type": "markdown",
      "metadata": {},
      "source": [
        "Convert votes to numeric data type"
      ]
    },
    {
      "cell_type": "code",
      "execution_count": 36,
      "metadata": {},
      "outputs": [],
      "source": [
        "#after much consideration, I will not be completing this section of the assignment as I sell that it is good the way it is, \n",
        "#the NaN values must likely referes to the fact that these games had no votes because they have not been released yet\n",
        "#and setting to any other value other than NaN would skew the data if any math was performed. "
      ]
    },
    {
      "cell_type": "markdown",
      "metadata": {
        "id": "GY36cdUtstuC"
      },
      "source": [
        "## 6. Drop and Rename Columns"
      ]
    },
    {
      "cell_type": "code",
      "execution_count": 37,
      "metadata": {
        "colab": {
          "base_uri": "https://localhost:8080/"
        },
        "id": "DLCMcPjQmkyL",
        "outputId": "3f0b509d-bc3c-44e1-c546-ee9e176fc276"
      },
      "outputs": [
        {
          "data": {
            "text/plain": [
              "Index(['Unnamed: 0', 'name', 'url', 'year', 'certificate', 'rating', 'votes',\n",
              "       'plot summary', 'Action', 'Adventure', 'Comedy', 'Crime', 'Family',\n",
              "       'Fantasy', 'Mystery', 'Sci-Fi', 'Thriller'],\n",
              "      dtype='object')"
            ]
          },
          "execution_count": 37,
          "metadata": {},
          "output_type": "execute_result"
        }
      ],
      "source": [
        "df.columns"
      ]
    },
    {
      "cell_type": "markdown",
      "metadata": {},
      "source": [
        "the following code removed the column of plot summary because I do not want ot know what the game is about because I like suprises."
      ]
    },
    {
      "cell_type": "code",
      "execution_count": 38,
      "metadata": {},
      "outputs": [
        {
          "data": {
            "text/html": [
              "<div>\n",
              "<style scoped>\n",
              "    .dataframe tbody tr th:only-of-type {\n",
              "        vertical-align: middle;\n",
              "    }\n",
              "\n",
              "    .dataframe tbody tr th {\n",
              "        vertical-align: top;\n",
              "    }\n",
              "\n",
              "    .dataframe thead th {\n",
              "        text-align: right;\n",
              "    }\n",
              "</style>\n",
              "<table border=\"1\" class=\"dataframe\">\n",
              "  <thead>\n",
              "    <tr style=\"text-align: right;\">\n",
              "      <th></th>\n",
              "      <th>Unnamed: 0</th>\n",
              "      <th>name</th>\n",
              "      <th>url</th>\n",
              "      <th>year</th>\n",
              "      <th>certificate</th>\n",
              "      <th>rating</th>\n",
              "      <th>votes</th>\n",
              "      <th>Action</th>\n",
              "      <th>Adventure</th>\n",
              "      <th>Comedy</th>\n",
              "      <th>Crime</th>\n",
              "      <th>Family</th>\n",
              "      <th>Fantasy</th>\n",
              "      <th>Mystery</th>\n",
              "      <th>Sci-Fi</th>\n",
              "      <th>Thriller</th>\n",
              "    </tr>\n",
              "  </thead>\n",
              "  <tbody>\n",
              "    <tr>\n",
              "      <th>0</th>\n",
              "      <td>0</td>\n",
              "      <td>Spider-Man</td>\n",
              "      <td>https://www.imdb.com/title/tt5807780/?ref_=adv...</td>\n",
              "      <td>2018.0</td>\n",
              "      <td>T</td>\n",
              "      <td>9.2</td>\n",
              "      <td>20,759</td>\n",
              "      <td>True</td>\n",
              "      <td>True</td>\n",
              "      <td>False</td>\n",
              "      <td>False</td>\n",
              "      <td>False</td>\n",
              "      <td>True</td>\n",
              "      <td>False</td>\n",
              "      <td>False</td>\n",
              "      <td>False</td>\n",
              "    </tr>\n",
              "    <tr>\n",
              "      <th>1</th>\n",
              "      <td>1</td>\n",
              "      <td>Red Dead Redemption II</td>\n",
              "      <td>https://www.imdb.com/title/tt6161168/?ref_=adv...</td>\n",
              "      <td>2018.0</td>\n",
              "      <td>M</td>\n",
              "      <td>9.7</td>\n",
              "      <td>35,703</td>\n",
              "      <td>True</td>\n",
              "      <td>True</td>\n",
              "      <td>False</td>\n",
              "      <td>True</td>\n",
              "      <td>False</td>\n",
              "      <td>False</td>\n",
              "      <td>False</td>\n",
              "      <td>False</td>\n",
              "      <td>False</td>\n",
              "    </tr>\n",
              "    <tr>\n",
              "      <th>2</th>\n",
              "      <td>2</td>\n",
              "      <td>Grand Theft Auto V</td>\n",
              "      <td>https://www.imdb.com/title/tt2103188/?ref_=adv...</td>\n",
              "      <td>2013.0</td>\n",
              "      <td>M</td>\n",
              "      <td>9.5</td>\n",
              "      <td>59,986</td>\n",
              "      <td>True</td>\n",
              "      <td>False</td>\n",
              "      <td>False</td>\n",
              "      <td>True</td>\n",
              "      <td>False</td>\n",
              "      <td>False</td>\n",
              "      <td>False</td>\n",
              "      <td>False</td>\n",
              "      <td>False</td>\n",
              "    </tr>\n",
              "    <tr>\n",
              "      <th>3</th>\n",
              "      <td>3</td>\n",
              "      <td>God of War</td>\n",
              "      <td>https://www.imdb.com/title/tt5838588/?ref_=adv...</td>\n",
              "      <td>2018.0</td>\n",
              "      <td>M</td>\n",
              "      <td>9.6</td>\n",
              "      <td>26,118</td>\n",
              "      <td>True</td>\n",
              "      <td>True</td>\n",
              "      <td>False</td>\n",
              "      <td>False</td>\n",
              "      <td>False</td>\n",
              "      <td>False</td>\n",
              "      <td>False</td>\n",
              "      <td>False</td>\n",
              "      <td>False</td>\n",
              "    </tr>\n",
              "    <tr>\n",
              "      <th>4</th>\n",
              "      <td>4</td>\n",
              "      <td>Uncharted 4: A Thief's End</td>\n",
              "      <td>https://www.imdb.com/title/tt3334704/?ref_=adv...</td>\n",
              "      <td>2016.0</td>\n",
              "      <td>T</td>\n",
              "      <td>9.5</td>\n",
              "      <td>28,722</td>\n",
              "      <td>True</td>\n",
              "      <td>True</td>\n",
              "      <td>False</td>\n",
              "      <td>False</td>\n",
              "      <td>False</td>\n",
              "      <td>False</td>\n",
              "      <td>False</td>\n",
              "      <td>False</td>\n",
              "      <td>False</td>\n",
              "    </tr>\n",
              "    <tr>\n",
              "      <th>...</th>\n",
              "      <td>...</td>\n",
              "      <td>...</td>\n",
              "      <td>...</td>\n",
              "      <td>...</td>\n",
              "      <td>...</td>\n",
              "      <td>...</td>\n",
              "      <td>...</td>\n",
              "      <td>...</td>\n",
              "      <td>...</td>\n",
              "      <td>...</td>\n",
              "      <td>...</td>\n",
              "      <td>...</td>\n",
              "      <td>...</td>\n",
              "      <td>...</td>\n",
              "      <td>...</td>\n",
              "      <td>...</td>\n",
              "    </tr>\n",
              "    <tr>\n",
              "      <th>20800</th>\n",
              "      <td>20798</td>\n",
              "      <td>Enjoy Your Power, Enjoy Your Choice</td>\n",
              "      <td>https://www.imdb.com/title/tt3845606/?ref_=adv...</td>\n",
              "      <td>2014.0</td>\n",
              "      <td>NaN</td>\n",
              "      <td>NaN</td>\n",
              "      <td>NaN</td>\n",
              "      <td>False</td>\n",
              "      <td>False</td>\n",
              "      <td>False</td>\n",
              "      <td>False</td>\n",
              "      <td>False</td>\n",
              "      <td>False</td>\n",
              "      <td>False</td>\n",
              "      <td>False</td>\n",
              "      <td>True</td>\n",
              "    </tr>\n",
              "    <tr>\n",
              "      <th>20801</th>\n",
              "      <td>20799</td>\n",
              "      <td>RedSun2020</td>\n",
              "      <td>https://www.imdb.com/title/tt0790739/?ref_=adv...</td>\n",
              "      <td>2004.0</td>\n",
              "      <td>NaN</td>\n",
              "      <td>NaN</td>\n",
              "      <td>NaN</td>\n",
              "      <td>False</td>\n",
              "      <td>False</td>\n",
              "      <td>False</td>\n",
              "      <td>False</td>\n",
              "      <td>False</td>\n",
              "      <td>False</td>\n",
              "      <td>False</td>\n",
              "      <td>False</td>\n",
              "      <td>True</td>\n",
              "    </tr>\n",
              "    <tr>\n",
              "      <th>20802</th>\n",
              "      <td>20800</td>\n",
              "      <td>Shutter</td>\n",
              "      <td>https://www.imdb.com/title/tt5119948/?ref_=adv...</td>\n",
              "      <td>2015.0</td>\n",
              "      <td>NaN</td>\n",
              "      <td>NaN</td>\n",
              "      <td>NaN</td>\n",
              "      <td>False</td>\n",
              "      <td>False</td>\n",
              "      <td>False</td>\n",
              "      <td>False</td>\n",
              "      <td>False</td>\n",
              "      <td>False</td>\n",
              "      <td>False</td>\n",
              "      <td>False</td>\n",
              "      <td>True</td>\n",
              "    </tr>\n",
              "    <tr>\n",
              "      <th>20803</th>\n",
              "      <td>20801</td>\n",
              "      <td>The Music Machine</td>\n",
              "      <td>https://www.imdb.com/title/tt5142082/?ref_=adv...</td>\n",
              "      <td>2015.0</td>\n",
              "      <td>NaN</td>\n",
              "      <td>NaN</td>\n",
              "      <td>NaN</td>\n",
              "      <td>False</td>\n",
              "      <td>False</td>\n",
              "      <td>False</td>\n",
              "      <td>False</td>\n",
              "      <td>False</td>\n",
              "      <td>False</td>\n",
              "      <td>False</td>\n",
              "      <td>False</td>\n",
              "      <td>True</td>\n",
              "    </tr>\n",
              "    <tr>\n",
              "      <th>20804</th>\n",
              "      <td>20802</td>\n",
              "      <td>Cryptic</td>\n",
              "      <td>https://www.imdb.com/title/tt10964974/?ref_=ad...</td>\n",
              "      <td>2020.0</td>\n",
              "      <td>NaN</td>\n",
              "      <td>NaN</td>\n",
              "      <td>NaN</td>\n",
              "      <td>False</td>\n",
              "      <td>False</td>\n",
              "      <td>False</td>\n",
              "      <td>False</td>\n",
              "      <td>False</td>\n",
              "      <td>False</td>\n",
              "      <td>False</td>\n",
              "      <td>False</td>\n",
              "      <td>True</td>\n",
              "    </tr>\n",
              "  </tbody>\n",
              "</table>\n",
              "<p>20803 rows × 16 columns</p>\n",
              "</div>"
            ],
            "text/plain": [
              "       Unnamed: 0                                 name  \\\n",
              "0               0                           Spider-Man   \n",
              "1               1               Red Dead Redemption II   \n",
              "2               2                   Grand Theft Auto V   \n",
              "3               3                           God of War   \n",
              "4               4           Uncharted 4: A Thief's End   \n",
              "...           ...                                  ...   \n",
              "20800       20798  Enjoy Your Power, Enjoy Your Choice   \n",
              "20801       20799                           RedSun2020   \n",
              "20802       20800                              Shutter   \n",
              "20803       20801                    The Music Machine   \n",
              "20804       20802                              Cryptic   \n",
              "\n",
              "                                                     url    year certificate  \\\n",
              "0      https://www.imdb.com/title/tt5807780/?ref_=adv...  2018.0           T   \n",
              "1      https://www.imdb.com/title/tt6161168/?ref_=adv...  2018.0           M   \n",
              "2      https://www.imdb.com/title/tt2103188/?ref_=adv...  2013.0           M   \n",
              "3      https://www.imdb.com/title/tt5838588/?ref_=adv...  2018.0           M   \n",
              "4      https://www.imdb.com/title/tt3334704/?ref_=adv...  2016.0           T   \n",
              "...                                                  ...     ...         ...   \n",
              "20800  https://www.imdb.com/title/tt3845606/?ref_=adv...  2014.0         NaN   \n",
              "20801  https://www.imdb.com/title/tt0790739/?ref_=adv...  2004.0         NaN   \n",
              "20802  https://www.imdb.com/title/tt5119948/?ref_=adv...  2015.0         NaN   \n",
              "20803  https://www.imdb.com/title/tt5142082/?ref_=adv...  2015.0         NaN   \n",
              "20804  https://www.imdb.com/title/tt10964974/?ref_=ad...  2020.0         NaN   \n",
              "\n",
              "       rating   votes  Action  Adventure  Comedy  Crime  Family  Fantasy  \\\n",
              "0         9.2  20,759    True       True   False  False   False     True   \n",
              "1         9.7  35,703    True       True   False   True   False    False   \n",
              "2         9.5  59,986    True      False   False   True   False    False   \n",
              "3         9.6  26,118    True       True   False  False   False    False   \n",
              "4         9.5  28,722    True       True   False  False   False    False   \n",
              "...       ...     ...     ...        ...     ...    ...     ...      ...   \n",
              "20800     NaN     NaN   False      False   False  False   False    False   \n",
              "20801     NaN     NaN   False      False   False  False   False    False   \n",
              "20802     NaN     NaN   False      False   False  False   False    False   \n",
              "20803     NaN     NaN   False      False   False  False   False    False   \n",
              "20804     NaN     NaN   False      False   False  False   False    False   \n",
              "\n",
              "       Mystery  Sci-Fi  Thriller  \n",
              "0        False   False     False  \n",
              "1        False   False     False  \n",
              "2        False   False     False  \n",
              "3        False   False     False  \n",
              "4        False   False     False  \n",
              "...        ...     ...       ...  \n",
              "20800    False   False      True  \n",
              "20801    False   False      True  \n",
              "20802    False   False      True  \n",
              "20803    False   False      True  \n",
              "20804    False   False      True  \n",
              "\n",
              "[20803 rows x 16 columns]"
            ]
          },
          "execution_count": 38,
          "metadata": {},
          "output_type": "execute_result"
        }
      ],
      "source": [
        "df.drop(['plot summary'], axis = 1)"
      ]
    },
    {
      "cell_type": "markdown",
      "metadata": {},
      "source": [
        "in the following code below, I changed the certificate column to ESRB rating as that makes more sense of a name because I have never called a game rating \n",
        "a certificate"
      ]
    },
    {
      "cell_type": "code",
      "execution_count": 53,
      "metadata": {},
      "outputs": [
        {
          "name": "stdout",
          "output_type": "stream",
          "text": [
            "<class 'pandas.core.frame.DataFrame'>\n",
            "Int64Index: 20803 entries, 0 to 20804\n",
            "Data columns (total 17 columns):\n",
            " #   Column        Non-Null Count  Dtype  \n",
            "---  ------        --------------  -----  \n",
            " 0   unnamed       20803 non-null  int64  \n",
            " 1   name          20803 non-null  object \n",
            " 2   url           20803 non-null  object \n",
            " 3   year          20536 non-null  float64\n",
            " 4   ESRB Rating   7903 non-null   object \n",
            " 5   rating        11600 non-null  float64\n",
            " 6   votes         11600 non-null  object \n",
            " 7   plot summary  20803 non-null  object \n",
            " 8   Action        20803 non-null  bool   \n",
            " 9   Adventure     20803 non-null  bool   \n",
            " 10  Comedy        20803 non-null  bool   \n",
            " 11  Crime         20803 non-null  bool   \n",
            " 12  Family        20803 non-null  bool   \n",
            " 13  Fantasy       20803 non-null  bool   \n",
            " 14  Mystery       20803 non-null  bool   \n",
            " 15  Sci-Fi        20803 non-null  bool   \n",
            " 16  Thriller      20803 non-null  bool   \n",
            "dtypes: bool(9), float64(2), int64(1), object(5)\n",
            "memory usage: 1.6+ MB\n"
          ]
        }
      ],
      "source": [
        "df.columns = ['unnamed','name','url', 'year', 'ESRB Rating','rating','votes','plot summary','Action','Adventure','Comedy','Crime','Family','Fantasy','Mystery','Sci-Fi','Thriller']\n",
        "df.info()"
      ]
    },
    {
      "cell_type": "markdown",
      "metadata": {},
      "source": [
        "## 7. Fix Nulls"
      ]
    },
    {
      "cell_type": "code",
      "execution_count": 54,
      "metadata": {},
      "outputs": [
        {
          "data": {
            "text/plain": [
              "<bound method Series.replace of 0        20,759\n",
              "1        35,703\n",
              "2        59,986\n",
              "3        26,118\n",
              "4        28,722\n",
              "          ...  \n",
              "20800       NaN\n",
              "20801       NaN\n",
              "20802       NaN\n",
              "20803       NaN\n",
              "20804       NaN\n",
              "Name: votes, Length: 20803, dtype: object>"
            ]
          },
          "execution_count": 54,
          "metadata": {},
          "output_type": "execute_result"
        }
      ],
      "source": [
        "df.votes.replace('NaN')"
      ]
    },
    {
      "cell_type": "markdown",
      "metadata": {
        "id": "f0KI193RuKht"
      },
      "source": [
        "## 8. Summarize Categorical Columns"
      ]
    },
    {
      "cell_type": "code",
      "execution_count": null,
      "metadata": {},
      "outputs": [
        {
          "data": {
            "text/plain": [
              "count     7903\n",
              "unique      21\n",
              "top          T\n",
              "freq      2474\n",
              "Name: certificate, dtype: object"
            ]
          },
          "execution_count": 41,
          "metadata": {},
          "output_type": "execute_result"
        }
      ],
      "source": [
        "df.certificate.describe()"
      ]
    },
    {
      "cell_type": "markdown",
      "metadata": {
        "id": "r1CzPaIEtsA9"
      },
      "source": [
        "## 9. Summarize Numeric Columns"
      ]
    },
    {
      "cell_type": "code",
      "execution_count": null,
      "metadata": {
        "colab": {
          "base_uri": "https://localhost:8080/"
        },
        "id": "0h3pRK6UlXt2",
        "outputId": "ea447c07-84e8-49ff-a363-1c337072c356"
      },
      "outputs": [
        {
          "data": {
            "text/plain": [
              "count    11600.000000\n",
              "mean         7.047526\n",
              "std          1.235204\n",
              "min          1.000000\n",
              "25%          6.400000\n",
              "50%          7.200000\n",
              "75%          7.900000\n",
              "max          9.700000\n",
              "Name: rating, dtype: float64"
            ]
          },
          "execution_count": 42,
          "metadata": {},
          "output_type": "execute_result"
        }
      ],
      "source": [
        "df.rating.describe()\n"
      ]
    },
    {
      "cell_type": "code",
      "execution_count": null,
      "metadata": {
        "colab": {
          "base_uri": "https://localhost:8080/"
        },
        "id": "bxvrhWWWshB-",
        "outputId": "5a8734ed-0c01-401b-ac7b-79a40fdb57cc"
      },
      "outputs": [
        {
          "data": {
            "text/plain": [
              "count     61.000000\n",
              "mean     336.655738\n",
              "std      270.460156\n",
              "min        1.000000\n",
              "25%       73.000000\n",
              "50%      365.000000\n",
              "75%      502.000000\n",
              "max      956.000000\n",
              "Name: year, dtype: float64"
            ]
          },
          "execution_count": 44,
          "metadata": {},
          "output_type": "execute_result"
        }
      ],
      "source": [
        "df.year.value_counts().describe()"
      ]
    },
    {
      "cell_type": "code",
      "execution_count": null,
      "metadata": {
        "colab": {
          "base_uri": "https://localhost:8080/",
          "height": 111
        },
        "id": "XY-8MKV8qebI",
        "outputId": "b3ad1ee6-7a60-4cb5-f574-a4b4de0be88b"
      },
      "outputs": [
        {
          "data": {
            "text/plain": [
              "count     11600\n",
              "unique     1905\n",
              "top           7\n",
              "freq        318\n",
              "Name: votes, dtype: object"
            ]
          },
          "execution_count": 43,
          "metadata": {},
          "output_type": "execute_result"
        }
      ],
      "source": [
        "df['votes'].describe()"
      ]
    }
  ],
  "metadata": {
    "colab": {
      "authorship_tag": "ABX9TyPG+ssWMxKywRQDkeiR9E1U",
      "include_colab_link": true,
      "mount_file_id": "1V16IS1TA0CmRy78Zy03QMP9hHtjmYEcW",
      "name": "EDA_10Steps.ipynb",
      "provenance": []
    },
    "kernelspec": {
      "display_name": "Python 3.8.5 ('base')",
      "language": "python",
      "name": "python3"
    },
    "language_info": {
      "codemirror_mode": {
        "name": "ipython",
        "version": 3
      },
      "file_extension": ".py",
      "mimetype": "text/x-python",
      "name": "python",
      "nbconvert_exporter": "python",
      "pygments_lexer": "ipython3",
      "version": "3.8.5"
    },
    "vscode": {
      "interpreter": {
        "hash": "c471063a423a12bc31c75690bebc4e46aa16be278dfa940fb5a0a9b8b4b1bcfc"
      }
    }
  },
  "nbformat": 4,
  "nbformat_minor": 0
}
